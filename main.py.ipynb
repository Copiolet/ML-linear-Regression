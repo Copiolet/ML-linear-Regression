{
 "cells": [
  {
   "cell_type": "code",
   "execution_count": null,
   "id": "a1b95505",
   "metadata": {},
   "outputs": [
    {
     "name": "stdout",
     "output_type": "stream",
     "text": [
      " * Serving Flask app \"__main__\" (lazy loading)\n",
      " * Environment: production\n",
      "\u001b[31m   WARNING: This is a development server. Do not use it in a production deployment.\u001b[0m\n",
      "\u001b[2m   Use a production WSGI server instead.\u001b[0m\n",
      " * Debug mode: off\n"
     ]
    },
    {
     "name": "stderr",
     "output_type": "stream",
     "text": [
      " * Running on http://127.0.0.1:5000/ (Press CTRL+C to quit)\n",
      "127.0.0.1 - - [23/Aug/2022 10:32:27] \"GET / HTTP/1.1\" 200 -\n",
      "127.0.0.1 - - [23/Aug/2022 10:32:30] \"POST / HTTP/1.1\" 200 -\n",
      "C:\\Users\\Priyansh Sarswat\\anaconda3\\lib\\site-packages\\sklearn\\base.py:450: UserWarning: X does not have valid feature names, but LinearRegression was fitted with feature names\n",
      "  warnings.warn(\n",
      "C:\\Users\\Priyansh Sarswat\\anaconda3\\lib\\site-packages\\sklearn\\base.py:566: FutureWarning: Arrays of bytes/strings is being converted to decimal numbers if dtype='numeric'. This behavior is deprecated in 0.24 and will be removed in 1.1 (renaming of 0.26). Please convert your data to numeric values explicitly instead.\n",
      "  X = check_array(X, **check_params)\n",
      "127.0.0.1 - - [23/Aug/2022 10:32:34] \"POST /homeprice HTTP/1.1\" 200 -\n"
     ]
    }
   ],
   "source": [
    "from flask import Flask, render_template, request\n",
    "from translate import Translator\n",
    "import speech_recognition as sr\n",
    "import pyttsx3\n",
    "import pandas as pd\n",
    "import numpy as np\n",
    "from sklearn import linear_model\n",
    "from sklearn.feature_extraction.text import CountVectorizer\n",
    "from sklearn.naive_bayes import MultinomialNB\n",
    "from sklearn.model_selection import train_test_split\n",
    "\n",
    "app = Flask(__name__)\n",
    "engine = pyttsx3.init(\"sapi5\")\n",
    "translator= Translator(to_lang=\"hindi\")\n",
    "listener = sr.Recognizer()\n",
    "engine.runAndWait()\n",
    "\n",
    "@app.route('/')\n",
    "def home():\n",
    "    say = True\n",
    "    if say == False:\n",
    "        pyttsx3.speak('Hello Sir I am Your personal helper')\n",
    "        pyttsx3.speak('''use mail check command to check spam mails or use Salry check to predict Employee Salary''')\n",
    "        pyttsx3.speak(\"and use language translator to translate language\")\n",
    "        pyttsx3.speak(\"And use home price to ckeck the price of a home\")\n",
    "    return render_template('pannel.html')\n",
    "\n",
    "@app.route(\"/\",methods=['GET','POST'])\n",
    "def check():\n",
    "    if request.method == \"POST\":\n",
    "        name = request.form[\"name\"]\n",
    "        if name == \"mail check\":\n",
    "            return render_template(\"mail_check.html\")\n",
    "        elif name == \"salary check\":\n",
    "            return render_template(\"salary.html\")  \n",
    "        elif name == \"language translator\":\n",
    "            return render_template(\"translator.html\")\n",
    "        elif name == \"home price\":\n",
    "            return render_template(\"homeprice.html\")\n",
    "        else:\n",
    "            return(\"please enter a valid response\")\n",
    "\n",
    "@app.route(\"/homeprice\",methods=['GET','POST'])\n",
    "def homeprice():\n",
    "    if request.method == \"POST\":\n",
    "        area = request.form['area']\n",
    "        rooms = request.form['rooms']\n",
    "        balcony = request.form['age']\n",
    "        df = pd.read_csv(\"homeprices.csv\")\n",
    "        model = linear_model.LinearRegression()\n",
    "        model.fit(df.drop('price',axis='columns'),df.price)\n",
    "        price = model.predict([[area,rooms,balcony]])\n",
    "        return render_template(\"homeprice.html\",price=price)\n",
    "        \n",
    "@app.route(\"/translate\",methods=['GET','POST'])\n",
    "def translate():\n",
    "    if request.method == \"POST\":\n",
    "        text = request.form['text']\n",
    "        translatedText = translator.translate(text)\n",
    "        return render_template(\"translator.html\",translatedText=translatedText)\n",
    "        \n",
    "@app.route(\"/salary\",methods=['GET','POST'])\n",
    "def salary():\n",
    "    if request.method == \"POST\":\n",
    "        experience = request.form['experience']\n",
    "        df = pd.read_csv(\"Salary_Data.csv\")\n",
    "        model = linear_model.LinearRegression()\n",
    "        new_df = df.drop(\"Salary\",axis=\"columns\")\n",
    "        model.fit(new_df,df.Salary)\n",
    "        salary = model.predict([[experience]])\n",
    "        return render_template(\"salary.html\",salary=salary)\n",
    "    else:\n",
    "        return(\"Internal server error\")\n",
    "\n",
    "@app.route('/predict', methods=['POST'])\n",
    "def predict():\n",
    "    df = pd.read_csv(\"spam.csv\", encoding=\"latin-1\")\n",
    "    df.drop(['Unnamed: 2', 'Unnamed: 3', 'Unnamed: 4'], axis=1, inplace=True)\n",
    "    df['label'] = df['class'].map({'ham': 0, 'spam': 1})\n",
    "    X = df['message']\n",
    "    y = df['label']\n",
    "    cv = CountVectorizer()\n",
    "    X = cv.fit_transform(X)  \n",
    "    X_train, X_test, y_train, y_test = train_test_split(X, y, test_size=0.33, random_state=42)\n",
    "    clf = MultinomialNB()\n",
    "    clf.fit(X_train, y_train)\n",
    "    clf.score(X_test, y_test)\n",
    "    if request.method == 'POST':\n",
    "        message = request.form['message']\n",
    "        data = [message]\n",
    "        vect = cv.transform(data).toarray()\n",
    "        my_prediction = clf.predict(vect)\n",
    "    return render_template('mail_check.html', prediction=my_prediction)\n",
    "\n",
    "if __name__ == '__main__':\n",
    "    app.run()"
   ]
  },
  {
   "cell_type": "code",
   "execution_count": null,
   "id": "b258def1",
   "metadata": {},
   "outputs": [],
   "source": []
  }
 ],
 "metadata": {
  "kernelspec": {
   "display_name": "Python 3 (ipykernel)",
   "language": "python",
   "name": "python3"
  },
  "language_info": {
   "codemirror_mode": {
    "name": "ipython",
    "version": 3
   },
   "file_extension": ".py",
   "mimetype": "text/x-python",
   "name": "python",
   "nbconvert_exporter": "python",
   "pygments_lexer": "ipython3",
   "version": "3.9.12"
  },
  "vscode": {
   "interpreter": {
    "hash": "3d22a142b40614776ee91b6b272c5d8130c5ef92ac1bf656051448486a332f0d"
   }
  }
 },
 "nbformat": 4,
 "nbformat_minor": 5
}
